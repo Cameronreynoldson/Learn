{
 "cells": [
  {
   "cell_type": "markdown",
   "metadata": {},
   "source": [
    "## Python Basics\n",
    "\n",
    "### Background\n",
    "\n",
    "This programming language lives is interpreted and dynamically typed.\n",
    "\n",
    "What this means is that it is not compiled, like Java or C++, and types are not declared.\n",
    "\n",
    "This leads to high flexibility and readibility, at the cost of speed and safety.\n",
    "\n",
    "### Variables\n",
    "\n",
    "Variables do not require type declarations (dynamic)."
   ]
  },
  {
   "cell_type": "code",
   "execution_count": 1,
   "metadata": {
    "collapsed": false
   },
   "outputs": [
    {
     "name": "stdout",
     "output_type": "stream",
     "text": [
      "3\n"
     ]
    }
   ],
   "source": [
    "foo = 1\n",
    "bar = 2\n",
    "\n",
    "print(foo + bar)"
   ]
  },
  {
   "cell_type": "markdown",
   "metadata": {},
   "source": [
    "### Boolean logic\n",
    "\n",
    "A couple new keywords here - **True**, **False**, **and**, **or**, **not**."
   ]
  },
  {
   "cell_type": "code",
   "execution_count": 2,
   "metadata": {
    "collapsed": false
   },
   "outputs": [
    {
     "name": "stdout",
     "output_type": "stream",
     "text": [
      "True False False True\n"
     ]
    }
   ],
   "source": [
    "yes = True\n",
    "\n",
    "# True and False => False.\n",
    "no = yes and False\n",
    "\n",
    "# not True => False.\n",
    "also_no = not yes\n",
    "\n",
    "# False or True => True.\n",
    "also_yes = no or True\n",
    "\n",
    "print(yes, no, also_no, also_yes)"
   ]
  },
  {
   "cell_type": "markdown",
   "metadata": {},
   "source": [
    "### Conditional Statements\n",
    "\n",
    "We have the same if, else if, else constructs we have seen in other languages."
   ]
  },
  {
   "cell_type": "code",
   "execution_count": 3,
   "metadata": {
    "collapsed": false
   },
   "outputs": [
    {
     "name": "stdout",
     "output_type": "stream",
     "text": [
      "odd\n",
      "is 5\n",
      "is odd\n"
     ]
    }
   ],
   "source": [
    "a = 5\n",
    "\n",
    "if a % 2 == 1:\n",
    "    print(\"odd\")\n",
    "\n",
    "if 1 <= a and a <= 4:\n",
    "    print(\"is in the interval [1, 4]\")\n",
    "elif a == 5:\n",
    "    print(\"is 5\")\n",
    "elif a % 2 == 1:\n",
    "    print(\"is odd\")\n",
    "\n",
    "if False:\n",
    "    print(\"can't get in here\")\n",
    "elif a % 2 == 0:\n",
    "    print(\"is even\")\n",
    "else:\n",
    "    print(\"is odd\")"
   ]
  },
  {
   "cell_type": "markdown",
   "metadata": {},
   "source": [
    "### Loops\n",
    "\n",
    "Similar constructs as other programming languages, we have for loops and while loops.\n",
    "\n",
    "For loops are done with the function **range**, there are a couple different ways we can use it.\n",
    "\n",
    "This function is a special function that returns a **generator**, which is a way of saying this function returns different numbers every time you call it. We'll go into details later."
   ]
  },
  {
   "cell_type": "code",
   "execution_count": 4,
   "metadata": {
    "collapsed": false
   },
   "outputs": [
    {
     "name": "stdout",
     "output_type": "stream",
     "text": [
      "first: 0\n",
      "first: 1\n",
      "first: 2\n",
      "second: 2\n",
      "second: 3\n",
      "second: 4\n",
      "third: 0\n",
      "third: 2\n",
      "third: 4\n"
     ]
    }
   ],
   "source": [
    "for i in range(3):\n",
    "    print(\"first: \" + str(i))\n",
    "\n",
    "for i in range(2, 5):\n",
    "    print(\"second: \" + str(i))\n",
    "\n",
    "for i in range(0, 5, 2):\n",
    "    print(\"third: \" + str(i))"
   ]
  },
  {
   "cell_type": "markdown",
   "metadata": {},
   "source": [
    "While loops are pretty straightfoward.\n",
    "\n",
    "Keep in mind we have two extra keywords - **break** and **continue**."
   ]
  },
  {
   "cell_type": "code",
   "execution_count": 5,
   "metadata": {
    "collapsed": false
   },
   "outputs": [
    {
     "name": "stdout",
     "output_type": "stream",
     "text": [
      "first: 0\n",
      "first: 1\n",
      "first: 2\n",
      "first: 3\n",
      "first: 4\n",
      "second: 2\n",
      "second: 4\n"
     ]
    }
   ],
   "source": [
    "i = 0\n",
    "while i < 5:\n",
    "    print(\"first: \" + str(i))\n",
    "    i += 1\n",
    "    \n",
    "j = 0\n",
    "while True:\n",
    "    j += 1\n",
    "    if j % 5 == 0:\n",
    "        break\n",
    "    elif j % 2 == 1:\n",
    "        continue\n",
    "    print(\"second: \" + str(j))"
   ]
  },
  {
   "cell_type": "markdown",
   "metadata": {},
   "source": [
    "### Functions\n",
    "\n",
    "This is the syntax for calling functions (note that **methods** are just functions that are associated with a **class**).\n",
    "\n",
    "Since we do not have to declare return types, a function can return anything.\n",
    "\n",
    "If a method does not return anything, it will actually return **None**."
   ]
  },
  {
   "cell_type": "code",
   "execution_count": 6,
   "metadata": {
    "collapsed": false
   },
   "outputs": [
    {
     "name": "stdout",
     "output_type": "stream",
     "text": [
      "True\n",
      "False\n",
      "5\n",
      "None\n"
     ]
    }
   ],
   "source": [
    "def function(a, b):\n",
    "    if (a + b) % 2 == 0:\n",
    "        return True\n",
    "    return False\n",
    "\n",
    "# Note: nothing specified to be returned.\n",
    "def nothing(a):\n",
    "    print(a)\n",
    "\n",
    "print(function(1, 1))\n",
    "\n",
    "print(function(1, 2))\n",
    "\n",
    "tmp = nothing(5)\n",
    "print(tmp)"
   ]
  },
  {
   "cell_type": "markdown",
   "metadata": {},
   "source": [
    "## Coding Challenge\n",
    "\n",
    "Write a program that prints the numbers from 1 to 100. \n",
    "\n",
    "But for multiples of three print “Fizz” instead of the number and for the multiples of five print “Buzz”. \n",
    "\n",
    "For numbers which are multiples of both three and five print “FizzBuzz\""
   ]
  }
 ],
 "metadata": {
  "kernelspec": {
   "display_name": "Python 3",
   "language": "python",
   "name": "python3"
  },
  "language_info": {
   "codemirror_mode": {
    "name": "ipython",
    "version": 3
   },
   "file_extension": ".py",
   "mimetype": "text/x-python",
   "name": "python",
   "nbconvert_exporter": "python",
   "pygments_lexer": "ipython3",
   "version": "3.5.2"
  }
 },
 "nbformat": 4,
 "nbformat_minor": 2
}
