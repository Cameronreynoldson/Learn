{
 "cells": [
  {
   "cell_type": "markdown",
   "metadata": {},
   "source": [
    "## Python Builtin Functions"
   ]
  },
  {
   "cell_type": "markdown",
   "metadata": {},
   "source": [
    "### List (Resizeable Array)\n",
    "\n",
    "In into to Java, people always ask \"Why use arrays if arraylists are way better?\". Well there are deeper performance issues involved, but in Python, all of the arrays are arraylists. They simplify this to just **lists**, so whenever arrays are mentioned in Python context, it means lists.\n",
    "\n",
    "Note there are way too many methods to go over, but here are a couple to get familiar with."
   ]
  },
  {
   "cell_type": "code",
   "execution_count": null,
   "metadata": {
    "collapsed": false
   },
   "outputs": [],
   "source": [
    "data = list()\n",
    "\n",
    "# Push to back.\n",
    "data.append(1)\n",
    "data.append(3)\n",
    "data.append(5)\n",
    "\n",
    "print(data)\n",
    "\n",
    "# Removes the last element and returns it.\n",
    "last = data.pop()\n",
    "\n",
    "print(data)\n",
    "\n",
    "more_data = [0, 2, 4, 6, 8]\n",
    "\n",
    "# Position the value first occurs.\n",
    "print(more_data.index(4))\n",
    "\n",
    "# Inserts 10 at index 3.\n",
    "more_data.insert(3, 10)\n",
    "\n",
    "print(more_data)"
   ]
  },
  {
   "cell_type": "markdown",
   "metadata": {},
   "source": [
    "### Set\n",
    "\n",
    "This is similar to a list, but there is no ordering, and no duplicates.\n",
    "\n",
    "The list and set data structures have different advantages, but this has to deal with algorithmic complexity and requires a more thorough guide.\n",
    "\n",
    "For now, all you have to know is that sets have faster runtimes for checking if a value is an element of the set (contains)."
   ]
  },
  {
   "cell_type": "code",
   "execution_count": 30,
   "metadata": {
    "collapsed": false
   },
   "outputs": [
    {
     "name": "stdout",
     "output_type": "stream",
     "text": [
      "{1, 3, 5}\n",
      "True\n",
      "False\n",
      "{1, 5}\n",
      "{0, 2, 4}\n",
      "{1, 2, 3, 5}\n"
     ]
    }
   ],
   "source": [
    "unique = set()\n",
    "\n",
    "unique.add(1)\n",
    "unique.add(3)\n",
    "unique.add(5)\n",
    "\n",
    "print(unique)\n",
    "\n",
    "print(3 in unique)\n",
    "print(10 in unique)\n",
    "\n",
    "unique.remove(3)\n",
    "\n",
    "print(unique)\n",
    "\n",
    "# Another way to initialize.\n",
    "evens = {0, 2, 4}\n",
    "\n",
    "print(evens)\n",
    "\n",
    "# Another way to initialize.\n",
    "some_list = [1, 1, 2, 3, 5]\n",
    "fib = set(some_list)\n",
    "\n",
    "print(fib)"
   ]
  },
  {
   "cell_type": "markdown",
   "metadata": {},
   "source": [
    "### Maps (Dictionaries)\n",
    "\n",
    "These are some of the most well used data structures. These go by many names - maps (more broad), dictionaries (Python specific), key/value pairs (much more broad).\n",
    "\n",
    "It is essentially a set, but for each **key**, there is a corresponding **value**.\n",
    "\n",
    "These can be used to represent **graphs**, also outside the scope of this guide."
   ]
  },
  {
   "cell_type": "code",
   "execution_count": 46,
   "metadata": {
    "collapsed": false
   },
   "outputs": [
    {
     "name": "stdout",
     "output_type": "stream",
     "text": [
      "{'jerry': 'B', 'tom': 'A'}\n",
      "A\n",
      "jerry B\n",
      "tom A\n",
      "{'jessie': 'cat', 'mary': 'dog'}\n",
      "{1: 1, 20: 2, 300: 1}\n"
     ]
    }
   ],
   "source": [
    "grades = dict()\n",
    "\n",
    "grades[\"tom\"] = \"A\"\n",
    "grades[\"jerry\"] = \"B\"\n",
    "\n",
    "print(grades)\n",
    "print(grades[\"tom\"])\n",
    "\n",
    "# No order guaranteed. Just like sets.\n",
    "for key, value in grades.items():\n",
    "    print(key, value)\n",
    "    \n",
    "# Another way to initialize.\n",
    "favorite_animals = {\"jessie\": \"cat\", \"mary\": \"dog\"}\n",
    "\n",
    "print(favorite_animals)\n",
    "\n",
    "# A simple but important use case.\n",
    "counter = dict()\n",
    "numbers = [1, 20, 20, 300]\n",
    "\n",
    "for value in numbers:\n",
    "    if value not in counter:\n",
    "        counter[value] = 0\n",
    "    counter[value] += 1\n",
    "    \n",
    "print(counter)"
   ]
  },
  {
   "cell_type": "markdown",
   "metadata": {},
   "source": [
    "### Split\n",
    "\n",
    "Every string has this method, and it returns a list of the string split by spaces - or a provided delimiter (separating character)"
   ]
  },
  {
   "cell_type": "code",
   "execution_count": null,
   "metadata": {
    "collapsed": false
   },
   "outputs": [],
   "source": [
    "sentence = \"hello world\"\n",
    "\n",
    "print(sentence.split())\n",
    "\n",
    "commas = \"foo,bar,baz\"\n",
    "\n",
    "print(commas.split(\",\"))"
   ]
  },
  {
   "cell_type": "markdown",
   "metadata": {},
   "source": [
    "### Join\n",
    "\n",
    "Takes in an **iterable** of strings (important), returns a string that connects all of them."
   ]
  },
  {
   "cell_type": "code",
   "execution_count": null,
   "metadata": {
    "collapsed": false
   },
   "outputs": [],
   "source": [
    "letters = [\"a\", \"b\", \"c\"]\n",
    "\n",
    "print(\"\".join(letters))\n",
    "print(\",\".join(letters))"
   ]
  },
  {
   "cell_type": "markdown",
   "metadata": {},
   "source": [
    "### Reversed\n",
    "\n",
    "Reverses an **iterable**. This method also returns an iterable, so you'll have to cast it back into whatever type it was. \n",
    "\n",
    "Iterables include things like strings, lists, etc."
   ]
  },
  {
   "cell_type": "code",
   "execution_count": null,
   "metadata": {
    "collapsed": false
   },
   "outputs": [],
   "source": [
    "numbers = [1, 2, 3]\n",
    "\n",
    "print(list(reversed(numbers)))\n",
    "\n",
    "sentence = \"foo bar\"\n",
    "\n",
    "print(\"\".join(reversed(sentence)))"
   ]
  },
  {
   "cell_type": "markdown",
   "metadata": {},
   "source": [
    "### Zip\n",
    "\n",
    "Takes in two iterables, and \"zips\" them together. Allows for easier iteration."
   ]
  },
  {
   "cell_type": "code",
   "execution_count": 20,
   "metadata": {
    "collapsed": false
   },
   "outputs": [
    {
     "name": "stdout",
     "output_type": "stream",
     "text": [
      "0 1\n",
      "2 3\n",
      "4 5\n"
     ]
    }
   ],
   "source": [
    "evens = [0, 2, 4]\n",
    "odds = [1, 3, 5]\n",
    "\n",
    "for x, y in zip(evens, odds):\n",
    "    print(x, y)"
   ]
  },
  {
   "cell_type": "markdown",
   "metadata": {},
   "source": [
    "### Enumerate\n",
    "\n",
    "Allows for easier iteration over some iterable.\n",
    "\n",
    "Provides the index and value instead of just values (the code example will be more clear)."
   ]
  },
  {
   "cell_type": "code",
   "execution_count": 22,
   "metadata": {
    "collapsed": false
   },
   "outputs": [
    {
     "name": "stdout",
     "output_type": "stream",
     "text": [
      "At index 0, found 1\n",
      "At index 1, found 2\n",
      "At index 2, found 3\n",
      "At index 3, found 5\n",
      "At index 4, found 7\n"
     ]
    }
   ],
   "source": [
    "data = [1, 2, 3, 5, 7]\n",
    "\n",
    "for i, value in enumerate(data):\n",
    "    print(\"At index %d, found %d\" % (i, value))"
   ]
  }
 ],
 "metadata": {
  "kernelspec": {
   "display_name": "Python 3",
   "language": "python",
   "name": "python3"
  },
  "language_info": {
   "codemirror_mode": {
    "name": "ipython",
    "version": 3
   },
   "file_extension": ".py",
   "mimetype": "text/x-python",
   "name": "python",
   "nbconvert_exporter": "python",
   "pygments_lexer": "ipython3",
   "version": "3.5.2"
  }
 },
 "nbformat": 4,
 "nbformat_minor": 2
}
